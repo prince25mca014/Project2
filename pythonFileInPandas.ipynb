{
  "metadata": {
    "kernelspec": {
      "name": "python",
      "display_name": "Python (Pyodide)",
      "language": "python"
    },
    "language_info": {
      "codemirror_mode": {
        "name": "python",
        "version": 3
      },
      "file_extension": ".py",
      "mimetype": "text/x-python",
      "name": "python",
      "nbconvert_exporter": "python",
      "pygments_lexer": "ipython3",
      "version": "3.8"
    }
  },
  "nbformat_minor": 5,
  "nbformat": 4,
  "cells": [
    {
      "id": "ef0792ea-6745-4e21-a95a-2fd8480eced8",
      "cell_type": "code",
      "source": "import pandas as pd\n# name = [\"Rohan\", \"Ramesh\", \"Rakesh\"]\n# address = [\"Patna\", \"Gaya\", \"Pune\"]\n# phone = [7878787878, 9078564534, 8976452312]\n# id1 = [1, 2, 3]\n# # id2 = pd.Series(name, index=[\"a\", \"b\", \"c\"])\n# s1 = pd.Series(name)\n# s2 = pd.Series(address)\n# s3 = pd.Series(phone)\n# s4 = pd.Series(id1)\n# cn = pd.concat([s1, s2, s3,s4], axis=1)\n# print(id2)\n\ndata = {\n    \"name\": [\"abuzar\", \"Rishav\", \"Akash\", \"Minakshi\"],\n    \"age\": [27, 45, 32, 22],\n    \"gender\": [\"M\", \"M\", \"M\", \"F\"],\n    \"address\": [\"Chandigarh\", \"Pune\", \"Gurugrame\", \"Delhi\"]\n}\n\ndf = pd.DataFrame(data)\ndf.to_csv(\"file.csv\")\n",
      "metadata": {
        "trusted": true
      },
      "outputs": [],
      "execution_count": 18
    },
    {
      "id": "ebc25edc-a6eb-4763-93a4-47d041593e11",
      "cell_type": "code",
      "source": "",
      "metadata": {
        "trusted": true
      },
      "outputs": [],
      "execution_count": null
    },
    {
      "id": "76ada072-91e9-4603-9930-5cbbbc19180e",
      "cell_type": "code",
      "source": "",
      "metadata": {
        "trusted": true
      },
      "outputs": [],
      "execution_count": null
    }
  ]
}